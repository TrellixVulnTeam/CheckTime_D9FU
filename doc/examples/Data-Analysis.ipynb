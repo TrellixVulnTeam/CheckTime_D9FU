{
 "cells": [
  {
   "cell_type": "markdown",
   "metadata": {},
   "source": [
    "# Load the Data\n",
    "Load NASDAQ - composite data to test the fitting"
   ]
  },
  {
   "cell_type": "code",
   "execution_count": 1,
   "metadata": {},
   "outputs": [],
   "source": [
    "import pandas as pd"
   ]
  },
  {
   "cell_type": "code",
   "execution_count": 2,
   "metadata": {},
   "outputs": [
    {
     "data": {
      "text/html": [
       "<div>\n",
       "<style scoped>\n",
       "    .dataframe tbody tr th:only-of-type {\n",
       "        vertical-align: middle;\n",
       "    }\n",
       "\n",
       "    .dataframe tbody tr th {\n",
       "        vertical-align: top;\n",
       "    }\n",
       "\n",
       "    .dataframe thead th {\n",
       "        text-align: right;\n",
       "    }\n",
       "</style>\n",
       "<table border=\"1\" class=\"dataframe\">\n",
       "  <thead>\n",
       "    <tr style=\"text-align: right;\">\n",
       "      <th></th>\n",
       "      <th>Date</th>\n",
       "      <th>Open</th>\n",
       "      <th>High</th>\n",
       "      <th>Low</th>\n",
       "      <th>Close</th>\n",
       "      <th>Adj Close</th>\n",
       "      <th>Volume</th>\n",
       "    </tr>\n",
       "  </thead>\n",
       "  <tbody>\n",
       "    <tr>\n",
       "      <th>12194</th>\n",
       "      <td>2019-06-12</td>\n",
       "      <td>7803.129883</td>\n",
       "      <td>7819.160156</td>\n",
       "      <td>7773.970215</td>\n",
       "      <td>7792.720215</td>\n",
       "      <td>7792.720215</td>\n",
       "      <td>1952790000</td>\n",
       "    </tr>\n",
       "    <tr>\n",
       "      <th>12195</th>\n",
       "      <td>2019-06-13</td>\n",
       "      <td>7822.560059</td>\n",
       "      <td>7848.359863</td>\n",
       "      <td>7813.600098</td>\n",
       "      <td>7837.129883</td>\n",
       "      <td>7837.129883</td>\n",
       "      <td>1838930000</td>\n",
       "    </tr>\n",
       "    <tr>\n",
       "      <th>12196</th>\n",
       "      <td>2019-06-14</td>\n",
       "      <td>7807.189941</td>\n",
       "      <td>7819.209961</td>\n",
       "      <td>7778.120117</td>\n",
       "      <td>7796.660156</td>\n",
       "      <td>7796.660156</td>\n",
       "      <td>1804340000</td>\n",
       "    </tr>\n",
       "    <tr>\n",
       "      <th>12197</th>\n",
       "      <td>2019-06-17</td>\n",
       "      <td>7819.430176</td>\n",
       "      <td>7865.979980</td>\n",
       "      <td>7812.609863</td>\n",
       "      <td>7845.020020</td>\n",
       "      <td>7845.020020</td>\n",
       "      <td>1935290000</td>\n",
       "    </tr>\n",
       "    <tr>\n",
       "      <th>12198</th>\n",
       "      <td>2019-06-18</td>\n",
       "      <td>7920.979980</td>\n",
       "      <td>8005.209961</td>\n",
       "      <td>7911.669922</td>\n",
       "      <td>7953.879883</td>\n",
       "      <td>7953.879883</td>\n",
       "      <td>2244920000</td>\n",
       "    </tr>\n",
       "  </tbody>\n",
       "</table>\n",
       "</div>"
      ],
      "text/plain": [
       "             Date         Open         High          Low        Close  \\\n",
       "12194  2019-06-12  7803.129883  7819.160156  7773.970215  7792.720215   \n",
       "12195  2019-06-13  7822.560059  7848.359863  7813.600098  7837.129883   \n",
       "12196  2019-06-14  7807.189941  7819.209961  7778.120117  7796.660156   \n",
       "12197  2019-06-17  7819.430176  7865.979980  7812.609863  7845.020020   \n",
       "12198  2019-06-18  7920.979980  8005.209961  7911.669922  7953.879883   \n",
       "\n",
       "         Adj Close      Volume  \n",
       "12194  7792.720215  1952790000  \n",
       "12195  7837.129883  1838930000  \n",
       "12196  7796.660156  1804340000  \n",
       "12197  7845.020020  1935290000  \n",
       "12198  7953.879883  2244920000  "
      ]
     },
     "execution_count": 2,
     "metadata": {},
     "output_type": "execute_result"
    }
   ],
   "source": [
    "df = pd.read_csv(\"fitting_test.csv\")\n",
    "df.tail()"
   ]
  },
  {
   "cell_type": "code",
   "execution_count": 3,
   "metadata": {},
   "outputs": [
    {
     "data": {
      "text/html": [
       "<div>\n",
       "<style scoped>\n",
       "    .dataframe tbody tr th:only-of-type {\n",
       "        vertical-align: middle;\n",
       "    }\n",
       "\n",
       "    .dataframe tbody tr th {\n",
       "        vertical-align: top;\n",
       "    }\n",
       "\n",
       "    .dataframe thead th {\n",
       "        text-align: right;\n",
       "    }\n",
       "</style>\n",
       "<table border=\"1\" class=\"dataframe\">\n",
       "  <thead>\n",
       "    <tr style=\"text-align: right;\">\n",
       "      <th></th>\n",
       "      <th>Date</th>\n",
       "      <th>Close</th>\n",
       "    </tr>\n",
       "  </thead>\n",
       "  <tbody>\n",
       "    <tr>\n",
       "      <th>12194</th>\n",
       "      <td>2019-06-12</td>\n",
       "      <td>7792.720215</td>\n",
       "    </tr>\n",
       "    <tr>\n",
       "      <th>12195</th>\n",
       "      <td>2019-06-13</td>\n",
       "      <td>7837.129883</td>\n",
       "    </tr>\n",
       "    <tr>\n",
       "      <th>12196</th>\n",
       "      <td>2019-06-14</td>\n",
       "      <td>7796.660156</td>\n",
       "    </tr>\n",
       "    <tr>\n",
       "      <th>12197</th>\n",
       "      <td>2019-06-17</td>\n",
       "      <td>7845.020020</td>\n",
       "    </tr>\n",
       "    <tr>\n",
       "      <th>12198</th>\n",
       "      <td>2019-06-18</td>\n",
       "      <td>7953.879883</td>\n",
       "    </tr>\n",
       "  </tbody>\n",
       "</table>\n",
       "</div>"
      ],
      "text/plain": [
       "             Date        Close\n",
       "12194  2019-06-12  7792.720215\n",
       "12195  2019-06-13  7837.129883\n",
       "12196  2019-06-14  7796.660156\n",
       "12197  2019-06-17  7845.020020\n",
       "12198  2019-06-18  7953.879883"
      ]
     },
     "execution_count": 3,
     "metadata": {},
     "output_type": "execute_result"
    }
   ],
   "source": [
    "df = df[[\"Date\", \"Close\"]]\n",
    "df.tail()"
   ]
  },
  {
   "cell_type": "markdown",
   "metadata": {},
   "source": [
    "# Normalize the Time"
   ]
  },
  {
   "cell_type": "code",
   "execution_count": 4,
   "metadata": {},
   "outputs": [],
   "source": [
    "from datetime import datetime"
   ]
  },
  {
   "cell_type": "code",
   "execution_count": 5,
   "metadata": {},
   "outputs": [],
   "source": [
    "date_to_epoch = lambda x: datetime.fromisoformat(x).timestamp()\n",
    "epoch_to_date = lambda x: datetime.fromtimestamp(x).strftime(\"%Y-%m-%d\")"
   ]
  },
  {
   "cell_type": "code",
   "execution_count": 6,
   "metadata": {},
   "outputs": [
    {
     "data": {
      "text/html": [
       "<div>\n",
       "<style scoped>\n",
       "    .dataframe tbody tr th:only-of-type {\n",
       "        vertical-align: middle;\n",
       "    }\n",
       "\n",
       "    .dataframe tbody tr th {\n",
       "        vertical-align: top;\n",
       "    }\n",
       "\n",
       "    .dataframe thead th {\n",
       "        text-align: right;\n",
       "    }\n",
       "</style>\n",
       "<table border=\"1\" class=\"dataframe\">\n",
       "  <thead>\n",
       "    <tr style=\"text-align: right;\">\n",
       "      <th></th>\n",
       "      <th>Date</th>\n",
       "      <th>Close</th>\n",
       "    </tr>\n",
       "  </thead>\n",
       "  <tbody>\n",
       "    <tr>\n",
       "      <th>12194</th>\n",
       "      <td>1.560290e+09</td>\n",
       "      <td>7792.720215</td>\n",
       "    </tr>\n",
       "    <tr>\n",
       "      <th>12195</th>\n",
       "      <td>1.560377e+09</td>\n",
       "      <td>7837.129883</td>\n",
       "    </tr>\n",
       "    <tr>\n",
       "      <th>12196</th>\n",
       "      <td>1.560463e+09</td>\n",
       "      <td>7796.660156</td>\n",
       "    </tr>\n",
       "    <tr>\n",
       "      <th>12197</th>\n",
       "      <td>1.560722e+09</td>\n",
       "      <td>7845.020020</td>\n",
       "    </tr>\n",
       "    <tr>\n",
       "      <th>12198</th>\n",
       "      <td>1.560809e+09</td>\n",
       "      <td>7953.879883</td>\n",
       "    </tr>\n",
       "  </tbody>\n",
       "</table>\n",
       "</div>"
      ],
      "text/plain": [
       "               Date        Close\n",
       "12194  1.560290e+09  7792.720215\n",
       "12195  1.560377e+09  7837.129883\n",
       "12196  1.560463e+09  7796.660156\n",
       "12197  1.560722e+09  7845.020020\n",
       "12198  1.560809e+09  7953.879883"
      ]
     },
     "execution_count": 6,
     "metadata": {},
     "output_type": "execute_result"
    }
   ],
   "source": [
    "df[\"Date\"] = df[\"Date\"].apply(date_to_epoch)\n",
    "df.tail()"
   ]
  },
  {
   "cell_type": "markdown",
   "metadata": {},
   "source": [
    "# Normalize the Data"
   ]
  },
  {
   "cell_type": "code",
   "execution_count": 7,
   "metadata": {},
   "outputs": [
    {
     "data": {
      "text/html": [
       "<div>\n",
       "<style scoped>\n",
       "    .dataframe tbody tr th:only-of-type {\n",
       "        vertical-align: middle;\n",
       "    }\n",
       "\n",
       "    .dataframe tbody tr th {\n",
       "        vertical-align: top;\n",
       "    }\n",
       "\n",
       "    .dataframe thead th {\n",
       "        text-align: right;\n",
       "    }\n",
       "</style>\n",
       "<table border=\"1\" class=\"dataframe\">\n",
       "  <thead>\n",
       "    <tr style=\"text-align: right;\">\n",
       "      <th></th>\n",
       "      <th>Date</th>\n",
       "      <th>Close</th>\n",
       "    </tr>\n",
       "  </thead>\n",
       "  <tbody>\n",
       "    <tr>\n",
       "      <th>12194</th>\n",
       "      <td>1.560290e+09</td>\n",
       "      <td>0.763618</td>\n",
       "    </tr>\n",
       "    <tr>\n",
       "      <th>12195</th>\n",
       "      <td>1.560377e+09</td>\n",
       "      <td>0.767970</td>\n",
       "    </tr>\n",
       "    <tr>\n",
       "      <th>12196</th>\n",
       "      <td>1.560463e+09</td>\n",
       "      <td>0.764004</td>\n",
       "    </tr>\n",
       "    <tr>\n",
       "      <th>12197</th>\n",
       "      <td>1.560722e+09</td>\n",
       "      <td>0.768743</td>\n",
       "    </tr>\n",
       "    <tr>\n",
       "      <th>12198</th>\n",
       "      <td>1.560809e+09</td>\n",
       "      <td>0.779410</td>\n",
       "    </tr>\n",
       "  </tbody>\n",
       "</table>\n",
       "</div>"
      ],
      "text/plain": [
       "               Date     Close\n",
       "12194  1.560290e+09  0.763618\n",
       "12195  1.560377e+09  0.767970\n",
       "12196  1.560463e+09  0.764004\n",
       "12197  1.560722e+09  0.768743\n",
       "12198  1.560809e+09  0.779410"
      ]
     },
     "execution_count": 7,
     "metadata": {},
     "output_type": "execute_result"
    }
   ],
   "source": [
    "df[\"Close\"] /= df[\"Close\"].max()\n",
    "df[\"Close\"] *= 0.8\n",
    "df.tail()"
   ]
  },
  {
   "cell_type": "markdown",
   "metadata": {},
   "source": [
    "# Save the normalized data"
   ]
  },
  {
   "cell_type": "code",
   "execution_count": 8,
   "metadata": {},
   "outputs": [],
   "source": [
    "df.to_csv(\"normalized_data.csv\")"
   ]
  },
  {
   "cell_type": "markdown",
   "metadata": {},
   "source": [
    "# Plot the Data"
   ]
  },
  {
   "cell_type": "code",
   "execution_count": 9,
   "metadata": {},
   "outputs": [
    {
     "data": {
      "text/plain": [
       "<matplotlib.axes._subplots.AxesSubplot at 0x7f2a225676d8>"
      ]
     },
     "execution_count": 9,
     "metadata": {},
     "output_type": "execute_result"
    }
   ],
   "source": [
    "df.plot.scatter(\"Date\", \"Close\")"
   ]
  },
  {
   "cell_type": "markdown",
   "metadata": {},
   "source": [
    "# Split the data"
   ]
  },
  {
   "cell_type": "code",
   "execution_count": 10,
   "metadata": {},
   "outputs": [],
   "source": [
    "import numpy as np"
   ]
  },
  {
   "cell_type": "code",
   "execution_count": 11,
   "metadata": {},
   "outputs": [],
   "source": [
    "x = df[\"Date\"].array.to_numpy()[:, np.newaxis]\n",
    "y = df[\"Close\"].array.to_numpy()"
   ]
  },
  {
   "cell_type": "markdown",
   "metadata": {},
   "source": [
    "# Smooth the data"
   ]
  },
  {
   "cell_type": "code",
   "execution_count": 12,
   "metadata": {},
   "outputs": [],
   "source": [
    "from statsmodels.tsa.holtwinters import ExponentialSmoothing"
   ]
  },
  {
   "cell_type": "code",
   "execution_count": 13,
   "metadata": {},
   "outputs": [],
   "source": [
    "model = ExponentialSmoothing(y, trend='add', seasonal=None)\n",
    "fit = model.fit()"
   ]
  },
  {
   "cell_type": "code",
   "execution_count": 14,
   "metadata": {},
   "outputs": [],
   "source": [
    "import matplotlib.pyplot as plt"
   ]
  },
  {
   "cell_type": "code",
   "execution_count": 15,
   "metadata": {},
   "outputs": [],
   "source": [
    "n = 300"
   ]
  },
  {
   "cell_type": "code",
   "execution_count": 16,
   "metadata": {},
   "outputs": [
    {
     "data": {
      "image/png": "[encoded data removed]",
      "text/plain": [
       "<Figure size 1440x720 with 1 Axes>"
      ]
     },
     "metadata": {
      "needs_background": "light"
     },
     "output_type": "display_data"
    }
   ],
   "source": [
    "plt.figure(figsize=(20,10))\n",
    "plt.plot(x[-n:], y[-n:])\n",
    "plt.plot(x[-n:], fit.fittedvalues[-n:])\n",
    "plt.show()"
   ]
  },
  {
   "cell_type": "code",
   "execution_count": 29,
   "metadata": {},
   "outputs": [],
   "source": [
    "y = fit.fittedvalues"
   ]
  },
  {
   "cell_type": "markdown",
   "metadata": {},
   "source": [
    "# Fit the Data"
   ]
  },
  {
   "cell_type": "markdown",
   "metadata": {},
   "source": [
    "I guess that a linear model + dft to get periodicity would be enougth"
   ]
  },
  {
   "cell_type": "markdown",
   "metadata": {},
   "source": [
    "I guess the RANSAC regression is  better because it ignore outliers but this means that it's \"slower\" to adapt to rapid changes. "
   ]
  },
  {
   "cell_type": "markdown",
   "metadata": {},
   "source": [
    "Or if the RANSAC fails a Bayesian regression with well thought prior might be even more robust (BayesianRidge)\n",
    "\n",
    "https://scikit-learn.org/dev/modules/generated/sklearn.linear_model.BayesianRidge.html#sklearn.linear_model.BayesianRidge"
   ]
  },
  {
   "cell_type": "code",
   "execution_count": 30,
   "metadata": {},
   "outputs": [],
   "source": [
    "from sklearn.linear_model import RANSACRegressor"
   ]
  },
  {
   "cell_type": "markdown",
   "metadata": {},
   "source": [
    "Fit the Model"
   ]
  },
  {
   "cell_type": "code",
   "execution_count": 31,
   "metadata": {},
   "outputs": [
    {
     "data": {
      "text/plain": [
       "RANSACRegressor(base_estimator=None, is_data_valid=None, is_model_valid=None,\n",
       "        loss='absolute_loss', max_skips=inf, max_trials=100,\n",
       "        min_samples=None, random_state=None, residual_threshold=None,\n",
       "        stop_n_inliers=inf, stop_probability=0.99, stop_score=inf)"
      ]
     },
     "execution_count": 31,
     "metadata": {},
     "output_type": "execute_result"
    }
   ],
   "source": [
    "ransac = RANSACRegressor()\n",
    "ransac.fit(x, y)"
   ]
  },
  {
   "cell_type": "markdown",
   "metadata": {},
   "source": [
    "# Analyze the fit"
   ]
  },
  {
   "cell_type": "markdown",
   "metadata": {},
   "source": [
    "Analyze what is inside and what is outside of the considered data\n",
    "\n",
    "If the outlier are too much we might want to fall back to a normal linear regression"
   ]
  },
  {
   "cell_type": "code",
   "execution_count": 32,
   "metadata": {},
   "outputs": [],
   "source": [
    "inlier_mask = ransac.inlier_mask_\n",
    "outlier_mask = np.logical_not(inlier_mask)"
   ]
  },
  {
   "cell_type": "markdown",
   "metadata": {},
   "source": [
    "$$ y = mx+q \\qquad \\implies \\qquad  x = \\frac{y - q}{m} $$"
   ]
  },
  {
   "cell_type": "code",
   "execution_count": 33,
   "metadata": {},
   "outputs": [
    {
     "name": "stdout",
     "output_type": "stream",
     "text": [
      "y = 2.58761402567531e-10 * x + -0.08977662496456858\n"
     ]
    }
   ],
   "source": [
    "m = ransac.estimator_.coef_[0]\n",
    "q = ransac.estimator_.intercept_\n",
    "print(\"y = {m} * x + {q}\".format(**locals()))"
   ]
  },
  {
   "cell_type": "code",
   "execution_count": 34,
   "metadata": {},
   "outputs": [],
   "source": [
    "if m  < 0:\n",
    "    print(\"The line is never going to intercept the max\")"
   ]
  },
  {
   "cell_type": "code",
   "execution_count": 35,
   "metadata": {},
   "outputs": [
    {
     "data": {
      "text/plain": [
       "4211511508.870265"
      ]
     },
     "execution_count": 35,
     "metadata": {},
     "output_type": "execute_result"
    }
   ],
   "source": [
    "time_predicted = (1 - q)/m\n",
    "time_predicted"
   ]
  },
  {
   "cell_type": "code",
   "execution_count": 36,
   "metadata": {},
   "outputs": [
    {
     "data": {
      "text/plain": [
       "'2103-06-17'"
      ]
     },
     "execution_count": 36,
     "metadata": {},
     "output_type": "execute_result"
    }
   ],
   "source": [
    "epoch_to_date(time_predicted)"
   ]
  },
  {
   "cell_type": "code",
   "execution_count": 37,
   "metadata": {},
   "outputs": [
    {
     "data": {
      "text/plain": [
       "array([2.65070271e+09])"
      ]
     },
     "execution_count": 37,
     "metadata": {},
     "output_type": "execute_result"
    }
   ],
   "source": [
    "delta = time_predicted - x[-1]\n",
    "delta"
   ]
  },
  {
   "cell_type": "code",
   "execution_count": 38,
   "metadata": {},
   "outputs": [
    {
     "name": "stdout",
     "output_type": "stream",
     "text": [
      "Days left: 30679\n"
     ]
    }
   ],
   "source": [
    "print(\"Days left: %d\"%(delta/(60*60*24)))"
   ]
  },
  {
   "cell_type": "markdown",
   "metadata": {},
   "source": [
    "# Plot the line"
   ]
  },
  {
   "cell_type": "code",
   "execution_count": 39,
   "metadata": {},
   "outputs": [],
   "source": [
    "# Predict data of estimated models\n",
    "px1 = np.linspace(x.min(), x.max(), 100)[:, np.newaxis]\n",
    "py1 = ransac.predict(px1)\n",
    "\n",
    "px2 = np.linspace(x.max(), time_predicted, 100)[:, np.newaxis]\n",
    "py2 = ransac.predict(px2)"
   ]
  },
  {
   "cell_type": "code",
   "execution_count": 40,
   "metadata": {},
   "outputs": [
    {
     "data": {
      "image/png": "[encoded data removed]",
      "text/plain": [
       "<Figure size 1440x360 with 1 Axes>"
      ]
     },
     "metadata": {
      "needs_background": "light"
     },
     "output_type": "display_data"
    }
   ],
   "source": [
    "# Set the figure size\n",
    "plt.figure(figsize=(20,5))\n",
    "\n",
    "# Print in yellow the data ignored and in green the data used\n",
    "plt.scatter(x[inlier_mask], y[inlier_mask], color='yellowgreen', marker='.', label='Inliers')\n",
    "plt.scatter(x[outlier_mask], y[outlier_mask], color='gold', marker='.', label='Outliers')\n",
    "\n",
    "# Print the prediction\n",
    "plt.plot(px1, py1, color='blue')\n",
    "plt.plot(px2, py2, color='blue', dashes=[5,3])\n",
    "\n",
    "# Print the axes\n",
    "plt.plot([0,time_predicted], [1,1], color='red', dashes=[5,3])\n",
    "\n",
    "# Setup the limits\n",
    "plt.xlim([0,time_predicted + 1e7])\n",
    "\n",
    "plt.show()"
   ]
  }
 ],
 "metadata": {
  "kernelspec": {
   "display_name": "Python 3",
   "language": "python",
   "name": "python3"
  },
  "language_info": {
   "codemirror_mode": {
    "name": "ipython",
    "version": 3
   },
   "file_extension": ".py",
   "mimetype": "text/x-python",
   "name": "python",
   "nbconvert_exporter": "python",
   "pygments_lexer": "ipython3",
   "version": "3.7.3"
  }
 },
 "nbformat": 4,
 "nbformat_minor": 2
}
