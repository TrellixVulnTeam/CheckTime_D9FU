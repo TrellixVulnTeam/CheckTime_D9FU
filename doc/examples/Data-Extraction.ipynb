{
 "cells": [
  {
   "cell_type": "markdown",
   "metadata": {},
   "source": [
    "# Load the Data"
   ]
  },
  {
   "cell_type": "code",
   "execution_count": 1,
   "metadata": {},
   "outputs": [],
   "source": [
    "import pandas as pd"
   ]
  },
  {
   "cell_type": "code",
   "execution_count": 2,
   "metadata": {},
   "outputs": [],
   "source": [
    "path = \"data_example.xlsx\"\n",
    "window = pd.read_excel(path, sheet_name=0)\n",
    "linux = pd.read_excel(path, sheet_name=1)"
   ]
  },
  {
   "cell_type": "code",
   "execution_count": 3,
   "metadata": {},
   "outputs": [
    {
     "data": {
      "text/html": [
       "<div>\n",
       "<style scoped>\n",
       "    .dataframe tbody tr th:only-of-type {\n",
       "        vertical-align: middle;\n",
       "    }\n",
       "\n",
       "    .dataframe tbody tr th {\n",
       "        vertical-align: top;\n",
       "    }\n",
       "\n",
       "    .dataframe thead th {\n",
       "        text-align: right;\n",
       "    }\n",
       "</style>\n",
       "<table border=\"1\" class=\"dataframe\">\n",
       "  <thead>\n",
       "    <tr style=\"text-align: right;\">\n",
       "      <th></th>\n",
       "      <th>time</th>\n",
       "      <th>hostname</th>\n",
       "      <th>matric</th>\n",
       "      <th>service</th>\n",
       "      <th>warn</th>\n",
       "      <th>crit</th>\n",
       "      <th>max</th>\n",
       "      <th>unit</th>\n",
       "      <th>value</th>\n",
       "    </tr>\n",
       "  </thead>\n",
       "  <tbody>\n",
       "    <tr>\n",
       "      <th>96</th>\n",
       "      <td>1557831379000000000</td>\n",
       "      <td>rt-mdl01-p1.idolrt.regione.toscana.it</td>\n",
       "      <td>Win</td>\n",
       "      <td>Diskspace</td>\n",
       "      <td>9663204556.8</td>\n",
       "      <td>6442136371200000</td>\n",
       "      <td>64421363712</td>\n",
       "      <td>bytes</td>\n",
       "      <td>63447236608</td>\n",
       "    </tr>\n",
       "    <tr>\n",
       "      <th>97</th>\n",
       "      <td>1557831379000000000</td>\n",
       "      <td>rt-mdl01-p1.idolrt.regione.toscana.it</td>\n",
       "      <td>Win</td>\n",
       "      <td>Diskspace</td>\n",
       "      <td>16050762547199900</td>\n",
       "      <td>10700508364800000</td>\n",
       "      <td>107005083648</td>\n",
       "      <td>bytes</td>\n",
       "      <td>86299901952</td>\n",
       "    </tr>\n",
       "    <tr>\n",
       "      <th>98</th>\n",
       "      <td>1557831392000000000</td>\n",
       "      <td>rt-sccm01-p1.idolrt.regione.toscana.it</td>\n",
       "      <td>Win</td>\n",
       "      <td>Diskspace</td>\n",
       "      <td>8375091855359990</td>\n",
       "      <td>55833945702.4</td>\n",
       "      <td>558339457024</td>\n",
       "      <td>bytes</td>\n",
       "      <td>274455330816</td>\n",
       "    </tr>\n",
       "    <tr>\n",
       "      <th>99</th>\n",
       "      <td>1557831392000000000</td>\n",
       "      <td>rt-sccm01-p1.idolrt.regione.toscana.it</td>\n",
       "      <td>Win</td>\n",
       "      <td>Diskspace</td>\n",
       "      <td>16050762547199900</td>\n",
       "      <td>10700508364800000</td>\n",
       "      <td>107005083648</td>\n",
       "      <td>bytes</td>\n",
       "      <td>48205135872</td>\n",
       "    </tr>\n",
       "    <tr>\n",
       "      <th>100</th>\n",
       "      <td>1557831558000000000</td>\n",
       "      <td>rt-mdl01-p1.idolrt.regione.toscana.it</td>\n",
       "      <td>Win</td>\n",
       "      <td>Diskspace</td>\n",
       "      <td>9663204556.8</td>\n",
       "      <td>6442136371200000</td>\n",
       "      <td>64421363712</td>\n",
       "      <td>bytes</td>\n",
       "      <td>63447236608</td>\n",
       "    </tr>\n",
       "  </tbody>\n",
       "</table>\n",
       "</div>"
      ],
      "text/plain": [
       "                    time                                hostname matric  \\\n",
       "96   1557831379000000000   rt-mdl01-p1.idolrt.regione.toscana.it    Win   \n",
       "97   1557831379000000000   rt-mdl01-p1.idolrt.regione.toscana.it    Win   \n",
       "98   1557831392000000000  rt-sccm01-p1.idolrt.regione.toscana.it    Win   \n",
       "99   1557831392000000000  rt-sccm01-p1.idolrt.regione.toscana.it    Win   \n",
       "100  1557831558000000000   rt-mdl01-p1.idolrt.regione.toscana.it    Win   \n",
       "\n",
       "       service               warn               crit           max   unit  \\\n",
       "96   Diskspace       9663204556.8   6442136371200000   64421363712  bytes   \n",
       "97   Diskspace  16050762547199900  10700508364800000  107005083648  bytes   \n",
       "98   Diskspace   8375091855359990      55833945702.4  558339457024  bytes   \n",
       "99   Diskspace  16050762547199900  10700508364800000  107005083648  bytes   \n",
       "100  Diskspace       9663204556.8   6442136371200000   64421363712  bytes   \n",
       "\n",
       "            value  \n",
       "96    63447236608  \n",
       "97    86299901952  \n",
       "98   274455330816  \n",
       "99    48205135872  \n",
       "100   63447236608  "
      ]
     },
     "execution_count": 3,
     "metadata": {},
     "output_type": "execute_result"
    }
   ],
   "source": [
    "window.tail()"
   ]
  },
  {
   "cell_type": "code",
   "execution_count": 4,
   "metadata": {},
   "outputs": [
    {
     "data": {
      "text/html": [
       "<div>\n",
       "<style scoped>\n",
       "    .dataframe tbody tr th:only-of-type {\n",
       "        vertical-align: middle;\n",
       "    }\n",
       "\n",
       "    .dataframe tbody tr th {\n",
       "        vertical-align: top;\n",
       "    }\n",
       "\n",
       "    .dataframe thead th {\n",
       "        text-align: right;\n",
       "    }\n",
       "</style>\n",
       "<table border=\"1\" class=\"dataframe\">\n",
       "  <thead>\n",
       "    <tr style=\"text-align: right;\">\n",
       "      <th></th>\n",
       "      <th>time</th>\n",
       "      <th>device</th>\n",
       "      <th>free</th>\n",
       "      <th>fstype</th>\n",
       "      <th>host</th>\n",
       "      <th>inodes_free</th>\n",
       "      <th>inodes_total</th>\n",
       "      <th>mode</th>\n",
       "      <th>path</th>\n",
       "      <th>total</th>\n",
       "      <th>used_percent</th>\n",
       "    </tr>\n",
       "  </thead>\n",
       "  <tbody>\n",
       "    <tr>\n",
       "      <th>46</th>\n",
       "      <td>1544801020000000000</td>\n",
       "      <td>mapper/vg00-lvtmp</td>\n",
       "      <td>2093359104</td>\n",
       "      <td>xfs</td>\n",
       "      <td>titlmsueyea01.it.corp.leroymerlin.com</td>\n",
       "      <td>1047498</td>\n",
       "      <td>1048576</td>\n",
       "      <td>rw</td>\n",
       "      <td>/tmp</td>\n",
       "      <td>2136997888</td>\n",
       "      <td>2042060230618250</td>\n",
       "    </tr>\n",
       "    <tr>\n",
       "      <th>47</th>\n",
       "      <td>1544801020000000000</td>\n",
       "      <td>mapper/vg00-lvvar</td>\n",
       "      <td>25334362112</td>\n",
       "      <td>xfs</td>\n",
       "      <td>titlmsueyea01.it.corp.leroymerlin.com</td>\n",
       "      <td>12578358</td>\n",
       "      <td>12582912</td>\n",
       "      <td>rw</td>\n",
       "      <td>/var</td>\n",
       "      <td>25759318016</td>\n",
       "      <td>16497172158674500</td>\n",
       "    </tr>\n",
       "    <tr>\n",
       "      <th>48</th>\n",
       "      <td>1544801020000000000</td>\n",
       "      <td>rootfs</td>\n",
       "      <td>6341922816</td>\n",
       "      <td>rootfs</td>\n",
       "      <td>titlmsueyea01.it.corp.leroymerlin.com</td>\n",
       "      <td>4112269</td>\n",
       "      <td>4194304</td>\n",
       "      <td>rw</td>\n",
       "      <td>/</td>\n",
       "      <td>8579448832</td>\n",
       "      <td>26080067144341200</td>\n",
       "    </tr>\n",
       "    <tr>\n",
       "      <th>49</th>\n",
       "      <td>1544801020000000000</td>\n",
       "      <td>sda1</td>\n",
       "      <td>384974848</td>\n",
       "      <td>xfs</td>\n",
       "      <td>titlmsueyea01.it.corp.leroymerlin.com</td>\n",
       "      <td>261817</td>\n",
       "      <td>262144</td>\n",
       "      <td>rw</td>\n",
       "      <td>/boot</td>\n",
       "      <td>533368832</td>\n",
       "      <td>2782202016633770</td>\n",
       "    </tr>\n",
       "    <tr>\n",
       "      <th>50</th>\n",
       "      <td>1544801030000000000</td>\n",
       "      <td>mapper/vg00-lvdata</td>\n",
       "      <td>9153642496</td>\n",
       "      <td>xfs</td>\n",
       "      <td>titlmsueyea01.it.corp.leroymerlin.com</td>\n",
       "      <td>4718525</td>\n",
       "      <td>4718592</td>\n",
       "      <td>rw</td>\n",
       "      <td>/data</td>\n",
       "      <td>9653190656</td>\n",
       "      <td>5174953834455780</td>\n",
       "    </tr>\n",
       "  </tbody>\n",
       "</table>\n",
       "</div>"
      ],
      "text/plain": [
       "                   time              device         free  fstype  \\\n",
       "46  1544801020000000000   mapper/vg00-lvtmp   2093359104     xfs   \n",
       "47  1544801020000000000   mapper/vg00-lvvar  25334362112     xfs   \n",
       "48  1544801020000000000              rootfs   6341922816  rootfs   \n",
       "49  1544801020000000000                sda1    384974848     xfs   \n",
       "50  1544801030000000000  mapper/vg00-lvdata   9153642496     xfs   \n",
       "\n",
       "                                     host inodes_free inodes_total mode  \\\n",
       "46  titlmsueyea01.it.corp.leroymerlin.com     1047498      1048576   rw   \n",
       "47  titlmsueyea01.it.corp.leroymerlin.com    12578358     12582912   rw   \n",
       "48  titlmsueyea01.it.corp.leroymerlin.com     4112269      4194304   rw   \n",
       "49  titlmsueyea01.it.corp.leroymerlin.com      261817       262144   rw   \n",
       "50  titlmsueyea01.it.corp.leroymerlin.com     4718525      4718592   rw   \n",
       "\n",
       "     path        total       used_percent  \n",
       "46   /tmp   2136997888   2042060230618250  \n",
       "47   /var  25759318016  16497172158674500  \n",
       "48      /   8579448832  26080067144341200  \n",
       "49  /boot    533368832   2782202016633770  \n",
       "50  /data   9653190656   5174953834455780  "
      ]
     },
     "execution_count": 4,
     "metadata": {},
     "output_type": "execute_result"
    }
   ],
   "source": [
    "linux.tail()"
   ]
  },
  {
   "cell_type": "markdown",
   "metadata": {},
   "source": [
    "# Get all the Hosts"
   ]
  },
  {
   "cell_type": "code",
   "execution_count": 5,
   "metadata": {},
   "outputs": [
    {
     "data": {
      "text/plain": [
       "['----', 'titlmsueyea01.it.corp.leroymerlin.com']"
      ]
     },
     "execution_count": 5,
     "metadata": {},
     "output_type": "execute_result"
    }
   ],
   "source": [
    "host = list(linux[\"host\"].unique())\n",
    "host"
   ]
  },
  {
   "cell_type": "markdown",
   "metadata": {},
   "source": [
    "# Validate the hosts"
   ]
  },
  {
   "cell_type": "code",
   "execution_count": 6,
   "metadata": {},
   "outputs": [],
   "source": [
    "import re\n",
    "pattern = re.compile(\".+?\\..+?(\\..+?)*\")"
   ]
  },
  {
   "cell_type": "code",
   "execution_count": 7,
   "metadata": {},
   "outputs": [
    {
     "data": {
      "text/plain": [
       "['titlmsueyea01.it.corp.leroymerlin.com']"
      ]
     },
     "execution_count": 7,
     "metadata": {},
     "output_type": "execute_result"
    }
   ],
   "source": [
    "host = [x for x in host if re.match(pattern, x)]\n",
    "host"
   ]
  },
  {
   "cell_type": "markdown",
   "metadata": {},
   "source": [
    "# Filter the data for that host"
   ]
  },
  {
   "cell_type": "code",
   "execution_count": 8,
   "metadata": {},
   "outputs": [],
   "source": [
    "host = host[0]"
   ]
  },
  {
   "cell_type": "code",
   "execution_count": 9,
   "metadata": {},
   "outputs": [],
   "source": [
    "h_l = linux.loc[linux[\"host\"] == host]"
   ]
  },
  {
   "cell_type": "code",
   "execution_count": 10,
   "metadata": {},
   "outputs": [
    {
     "data": {
      "text/html": [
       "<div>\n",
       "<style scoped>\n",
       "    .dataframe tbody tr th:only-of-type {\n",
       "        vertical-align: middle;\n",
       "    }\n",
       "\n",
       "    .dataframe tbody tr th {\n",
       "        vertical-align: top;\n",
       "    }\n",
       "\n",
       "    .dataframe thead th {\n",
       "        text-align: right;\n",
       "    }\n",
       "</style>\n",
       "<table border=\"1\" class=\"dataframe\">\n",
       "  <thead>\n",
       "    <tr style=\"text-align: right;\">\n",
       "      <th></th>\n",
       "      <th>time</th>\n",
       "      <th>device</th>\n",
       "      <th>free</th>\n",
       "      <th>fstype</th>\n",
       "      <th>host</th>\n",
       "      <th>inodes_free</th>\n",
       "      <th>inodes_total</th>\n",
       "      <th>mode</th>\n",
       "      <th>path</th>\n",
       "      <th>total</th>\n",
       "      <th>used_percent</th>\n",
       "    </tr>\n",
       "  </thead>\n",
       "  <tbody>\n",
       "    <tr>\n",
       "      <th>46</th>\n",
       "      <td>1544801020000000000</td>\n",
       "      <td>mapper/vg00-lvtmp</td>\n",
       "      <td>2093359104</td>\n",
       "      <td>xfs</td>\n",
       "      <td>titlmsueyea01.it.corp.leroymerlin.com</td>\n",
       "      <td>1047498</td>\n",
       "      <td>1048576</td>\n",
       "      <td>rw</td>\n",
       "      <td>/tmp</td>\n",
       "      <td>2136997888</td>\n",
       "      <td>2042060230618250</td>\n",
       "    </tr>\n",
       "    <tr>\n",
       "      <th>47</th>\n",
       "      <td>1544801020000000000</td>\n",
       "      <td>mapper/vg00-lvvar</td>\n",
       "      <td>25334362112</td>\n",
       "      <td>xfs</td>\n",
       "      <td>titlmsueyea01.it.corp.leroymerlin.com</td>\n",
       "      <td>12578358</td>\n",
       "      <td>12582912</td>\n",
       "      <td>rw</td>\n",
       "      <td>/var</td>\n",
       "      <td>25759318016</td>\n",
       "      <td>16497172158674500</td>\n",
       "    </tr>\n",
       "    <tr>\n",
       "      <th>48</th>\n",
       "      <td>1544801020000000000</td>\n",
       "      <td>rootfs</td>\n",
       "      <td>6341922816</td>\n",
       "      <td>rootfs</td>\n",
       "      <td>titlmsueyea01.it.corp.leroymerlin.com</td>\n",
       "      <td>4112269</td>\n",
       "      <td>4194304</td>\n",
       "      <td>rw</td>\n",
       "      <td>/</td>\n",
       "      <td>8579448832</td>\n",
       "      <td>26080067144341200</td>\n",
       "    </tr>\n",
       "    <tr>\n",
       "      <th>49</th>\n",
       "      <td>1544801020000000000</td>\n",
       "      <td>sda1</td>\n",
       "      <td>384974848</td>\n",
       "      <td>xfs</td>\n",
       "      <td>titlmsueyea01.it.corp.leroymerlin.com</td>\n",
       "      <td>261817</td>\n",
       "      <td>262144</td>\n",
       "      <td>rw</td>\n",
       "      <td>/boot</td>\n",
       "      <td>533368832</td>\n",
       "      <td>2782202016633770</td>\n",
       "    </tr>\n",
       "    <tr>\n",
       "      <th>50</th>\n",
       "      <td>1544801030000000000</td>\n",
       "      <td>mapper/vg00-lvdata</td>\n",
       "      <td>9153642496</td>\n",
       "      <td>xfs</td>\n",
       "      <td>titlmsueyea01.it.corp.leroymerlin.com</td>\n",
       "      <td>4718525</td>\n",
       "      <td>4718592</td>\n",
       "      <td>rw</td>\n",
       "      <td>/data</td>\n",
       "      <td>9653190656</td>\n",
       "      <td>5174953834455780</td>\n",
       "    </tr>\n",
       "  </tbody>\n",
       "</table>\n",
       "</div>"
      ],
      "text/plain": [
       "                   time              device         free  fstype  \\\n",
       "46  1544801020000000000   mapper/vg00-lvtmp   2093359104     xfs   \n",
       "47  1544801020000000000   mapper/vg00-lvvar  25334362112     xfs   \n",
       "48  1544801020000000000              rootfs   6341922816  rootfs   \n",
       "49  1544801020000000000                sda1    384974848     xfs   \n",
       "50  1544801030000000000  mapper/vg00-lvdata   9153642496     xfs   \n",
       "\n",
       "                                     host inodes_free inodes_total mode  \\\n",
       "46  titlmsueyea01.it.corp.leroymerlin.com     1047498      1048576   rw   \n",
       "47  titlmsueyea01.it.corp.leroymerlin.com    12578358     12582912   rw   \n",
       "48  titlmsueyea01.it.corp.leroymerlin.com     4112269      4194304   rw   \n",
       "49  titlmsueyea01.it.corp.leroymerlin.com      261817       262144   rw   \n",
       "50  titlmsueyea01.it.corp.leroymerlin.com     4718525      4718592   rw   \n",
       "\n",
       "     path        total       used_percent  \n",
       "46   /tmp   2136997888   2042060230618250  \n",
       "47   /var  25759318016  16497172158674500  \n",
       "48      /   8579448832  26080067144341200  \n",
       "49  /boot    533368832   2782202016633770  \n",
       "50  /data   9653190656   5174953834455780  "
      ]
     },
     "execution_count": 10,
     "metadata": {},
     "output_type": "execute_result"
    }
   ],
   "source": [
    "h_l.tail()"
   ]
  },
  {
   "cell_type": "markdown",
   "metadata": {},
   "source": [
    "# Get all the devices for that host"
   ]
  },
  {
   "cell_type": "code",
   "execution_count": 11,
   "metadata": {},
   "outputs": [
    {
     "data": {
      "text/plain": [
       "['mapper/vg00-lvdata',\n",
       " 'mapper/vg00-lvneteye',\n",
       " 'mapper/vg00-lvroot',\n",
       " 'mapper/vg00-lvtmp',\n",
       " 'mapper/vg00-lvvar',\n",
       " 'rootfs',\n",
       " 'sda1',\n",
       " 'used percent']"
      ]
     },
     "execution_count": 11,
     "metadata": {},
     "output_type": "execute_result"
    }
   ],
   "source": [
    "h_l_devices = list(h_l[\"device\"].unique())\n",
    "h_l_devices"
   ]
  },
  {
   "cell_type": "markdown",
   "metadata": {},
   "source": [
    "# Filter the data for the host and the device"
   ]
  },
  {
   "cell_type": "code",
   "execution_count": 12,
   "metadata": {},
   "outputs": [],
   "source": [
    "device = h_l_devices[0]"
   ]
  },
  {
   "cell_type": "code",
   "execution_count": 13,
   "metadata": {},
   "outputs": [
    {
     "data": {
      "text/html": [
       "<div>\n",
       "<style scoped>\n",
       "    .dataframe tbody tr th:only-of-type {\n",
       "        vertical-align: middle;\n",
       "    }\n",
       "\n",
       "    .dataframe tbody tr th {\n",
       "        vertical-align: top;\n",
       "    }\n",
       "\n",
       "    .dataframe thead th {\n",
       "        text-align: right;\n",
       "    }\n",
       "</style>\n",
       "<table border=\"1\" class=\"dataframe\">\n",
       "  <thead>\n",
       "    <tr style=\"text-align: right;\">\n",
       "      <th></th>\n",
       "      <th>time</th>\n",
       "      <th>device</th>\n",
       "      <th>free</th>\n",
       "      <th>fstype</th>\n",
       "      <th>host</th>\n",
       "      <th>inodes_free</th>\n",
       "      <th>inodes_total</th>\n",
       "      <th>mode</th>\n",
       "      <th>path</th>\n",
       "      <th>total</th>\n",
       "      <th>used_percent</th>\n",
       "    </tr>\n",
       "  </thead>\n",
       "  <tbody>\n",
       "    <tr>\n",
       "      <th>1</th>\n",
       "      <td>1544800960000000000</td>\n",
       "      <td>mapper/vg00-lvdata</td>\n",
       "      <td>9153642496</td>\n",
       "      <td>xfs</td>\n",
       "      <td>titlmsueyea01.it.corp.leroymerlin.com</td>\n",
       "      <td>4718525</td>\n",
       "      <td>4718592</td>\n",
       "      <td>rw</td>\n",
       "      <td>/data</td>\n",
       "      <td>9653190656</td>\n",
       "      <td>5174953834455780</td>\n",
       "    </tr>\n",
       "    <tr>\n",
       "      <th>8</th>\n",
       "      <td>1544800970000000000</td>\n",
       "      <td>mapper/vg00-lvdata</td>\n",
       "      <td>9153642496</td>\n",
       "      <td>xfs</td>\n",
       "      <td>titlmsueyea01.it.corp.leroymerlin.com</td>\n",
       "      <td>4718525</td>\n",
       "      <td>4718592</td>\n",
       "      <td>rw</td>\n",
       "      <td>/data</td>\n",
       "      <td>9653190656</td>\n",
       "      <td>5174953834455780</td>\n",
       "    </tr>\n",
       "    <tr>\n",
       "      <th>15</th>\n",
       "      <td>1544800980000000000</td>\n",
       "      <td>mapper/vg00-lvdata</td>\n",
       "      <td>9153642496</td>\n",
       "      <td>xfs</td>\n",
       "      <td>titlmsueyea01.it.corp.leroymerlin.com</td>\n",
       "      <td>4718525</td>\n",
       "      <td>4718592</td>\n",
       "      <td>rw</td>\n",
       "      <td>/data</td>\n",
       "      <td>9653190656</td>\n",
       "      <td>5174953834455780</td>\n",
       "    </tr>\n",
       "    <tr>\n",
       "      <th>22</th>\n",
       "      <td>1544800990000000000</td>\n",
       "      <td>mapper/vg00-lvdata</td>\n",
       "      <td>9153642496</td>\n",
       "      <td>xfs</td>\n",
       "      <td>titlmsueyea01.it.corp.leroymerlin.com</td>\n",
       "      <td>4718525</td>\n",
       "      <td>4718592</td>\n",
       "      <td>rw</td>\n",
       "      <td>/data</td>\n",
       "      <td>9653190656</td>\n",
       "      <td>5174953834455780</td>\n",
       "    </tr>\n",
       "    <tr>\n",
       "      <th>29</th>\n",
       "      <td>1544801000000000000</td>\n",
       "      <td>mapper/vg00-lvdata</td>\n",
       "      <td>9153642496</td>\n",
       "      <td>xfs</td>\n",
       "      <td>titlmsueyea01.it.corp.leroymerlin.com</td>\n",
       "      <td>4718525</td>\n",
       "      <td>4718592</td>\n",
       "      <td>rw</td>\n",
       "      <td>/data</td>\n",
       "      <td>9653190656</td>\n",
       "      <td>5174953834455780</td>\n",
       "    </tr>\n",
       "    <tr>\n",
       "      <th>36</th>\n",
       "      <td>1544801010000000000</td>\n",
       "      <td>mapper/vg00-lvdata</td>\n",
       "      <td>9153642496</td>\n",
       "      <td>xfs</td>\n",
       "      <td>titlmsueyea01.it.corp.leroymerlin.com</td>\n",
       "      <td>4718525</td>\n",
       "      <td>4718592</td>\n",
       "      <td>rw</td>\n",
       "      <td>/data</td>\n",
       "      <td>9653190656</td>\n",
       "      <td>5174953834455780</td>\n",
       "    </tr>\n",
       "    <tr>\n",
       "      <th>43</th>\n",
       "      <td>1544801020000000000</td>\n",
       "      <td>mapper/vg00-lvdata</td>\n",
       "      <td>9153642496</td>\n",
       "      <td>xfs</td>\n",
       "      <td>titlmsueyea01.it.corp.leroymerlin.com</td>\n",
       "      <td>4718525</td>\n",
       "      <td>4718592</td>\n",
       "      <td>rw</td>\n",
       "      <td>/data</td>\n",
       "      <td>9653190656</td>\n",
       "      <td>5174953834455780</td>\n",
       "    </tr>\n",
       "    <tr>\n",
       "      <th>50</th>\n",
       "      <td>1544801030000000000</td>\n",
       "      <td>mapper/vg00-lvdata</td>\n",
       "      <td>9153642496</td>\n",
       "      <td>xfs</td>\n",
       "      <td>titlmsueyea01.it.corp.leroymerlin.com</td>\n",
       "      <td>4718525</td>\n",
       "      <td>4718592</td>\n",
       "      <td>rw</td>\n",
       "      <td>/data</td>\n",
       "      <td>9653190656</td>\n",
       "      <td>5174953834455780</td>\n",
       "    </tr>\n",
       "  </tbody>\n",
       "</table>\n",
       "</div>"
      ],
      "text/plain": [
       "                   time              device        free fstype  \\\n",
       "1   1544800960000000000  mapper/vg00-lvdata  9153642496    xfs   \n",
       "8   1544800970000000000  mapper/vg00-lvdata  9153642496    xfs   \n",
       "15  1544800980000000000  mapper/vg00-lvdata  9153642496    xfs   \n",
       "22  1544800990000000000  mapper/vg00-lvdata  9153642496    xfs   \n",
       "29  1544801000000000000  mapper/vg00-lvdata  9153642496    xfs   \n",
       "36  1544801010000000000  mapper/vg00-lvdata  9153642496    xfs   \n",
       "43  1544801020000000000  mapper/vg00-lvdata  9153642496    xfs   \n",
       "50  1544801030000000000  mapper/vg00-lvdata  9153642496    xfs   \n",
       "\n",
       "                                     host inodes_free inodes_total mode  \\\n",
       "1   titlmsueyea01.it.corp.leroymerlin.com     4718525      4718592   rw   \n",
       "8   titlmsueyea01.it.corp.leroymerlin.com     4718525      4718592   rw   \n",
       "15  titlmsueyea01.it.corp.leroymerlin.com     4718525      4718592   rw   \n",
       "22  titlmsueyea01.it.corp.leroymerlin.com     4718525      4718592   rw   \n",
       "29  titlmsueyea01.it.corp.leroymerlin.com     4718525      4718592   rw   \n",
       "36  titlmsueyea01.it.corp.leroymerlin.com     4718525      4718592   rw   \n",
       "43  titlmsueyea01.it.corp.leroymerlin.com     4718525      4718592   rw   \n",
       "50  titlmsueyea01.it.corp.leroymerlin.com     4718525      4718592   rw   \n",
       "\n",
       "     path       total      used_percent  \n",
       "1   /data  9653190656  5174953834455780  \n",
       "8   /data  9653190656  5174953834455780  \n",
       "15  /data  9653190656  5174953834455780  \n",
       "22  /data  9653190656  5174953834455780  \n",
       "29  /data  9653190656  5174953834455780  \n",
       "36  /data  9653190656  5174953834455780  \n",
       "43  /data  9653190656  5174953834455780  \n",
       "50  /data  9653190656  5174953834455780  "
      ]
     },
     "execution_count": 13,
     "metadata": {},
     "output_type": "execute_result"
    }
   ],
   "source": [
    "h_l_d = h_l.loc[linux[\"device\"] == device]\n",
    "h_l_d"
   ]
  },
  {
   "cell_type": "markdown",
   "metadata": {},
   "source": [
    "# Extract the columns needed for the analysis"
   ]
  },
  {
   "cell_type": "code",
   "execution_count": 14,
   "metadata": {},
   "outputs": [],
   "source": [
    "data = h_l_d[[\"time\", \"used_percent\"]].astype('int64')"
   ]
  },
  {
   "cell_type": "code",
   "execution_count": 15,
   "metadata": {},
   "outputs": [],
   "source": [
    "data.used_percent /= 1e16"
   ]
  },
  {
   "cell_type": "code",
   "execution_count": 16,
   "metadata": {},
   "outputs": [
    {
     "data": {
      "text/html": [
       "<div>\n",
       "<style scoped>\n",
       "    .dataframe tbody tr th:only-of-type {\n",
       "        vertical-align: middle;\n",
       "    }\n",
       "\n",
       "    .dataframe tbody tr th {\n",
       "        vertical-align: top;\n",
       "    }\n",
       "\n",
       "    .dataframe thead th {\n",
       "        text-align: right;\n",
       "    }\n",
       "</style>\n",
       "<table border=\"1\" class=\"dataframe\">\n",
       "  <thead>\n",
       "    <tr style=\"text-align: right;\">\n",
       "      <th></th>\n",
       "      <th>time</th>\n",
       "      <th>used_percent</th>\n",
       "    </tr>\n",
       "  </thead>\n",
       "  <tbody>\n",
       "    <tr>\n",
       "      <th>1</th>\n",
       "      <td>1544800960000000000</td>\n",
       "      <td>0.517495</td>\n",
       "    </tr>\n",
       "    <tr>\n",
       "      <th>8</th>\n",
       "      <td>1544800970000000000</td>\n",
       "      <td>0.517495</td>\n",
       "    </tr>\n",
       "    <tr>\n",
       "      <th>15</th>\n",
       "      <td>1544800980000000000</td>\n",
       "      <td>0.517495</td>\n",
       "    </tr>\n",
       "    <tr>\n",
       "      <th>22</th>\n",
       "      <td>1544800990000000000</td>\n",
       "      <td>0.517495</td>\n",
       "    </tr>\n",
       "    <tr>\n",
       "      <th>29</th>\n",
       "      <td>1544801000000000000</td>\n",
       "      <td>0.517495</td>\n",
       "    </tr>\n",
       "    <tr>\n",
       "      <th>36</th>\n",
       "      <td>1544801010000000000</td>\n",
       "      <td>0.517495</td>\n",
       "    </tr>\n",
       "    <tr>\n",
       "      <th>43</th>\n",
       "      <td>1544801020000000000</td>\n",
       "      <td>0.517495</td>\n",
       "    </tr>\n",
       "    <tr>\n",
       "      <th>50</th>\n",
       "      <td>1544801030000000000</td>\n",
       "      <td>0.517495</td>\n",
       "    </tr>\n",
       "  </tbody>\n",
       "</table>\n",
       "</div>"
      ],
      "text/plain": [
       "                   time  used_percent\n",
       "1   1544800960000000000      0.517495\n",
       "8   1544800970000000000      0.517495\n",
       "15  1544800980000000000      0.517495\n",
       "22  1544800990000000000      0.517495\n",
       "29  1544801000000000000      0.517495\n",
       "36  1544801010000000000      0.517495\n",
       "43  1544801020000000000      0.517495\n",
       "50  1544801030000000000      0.517495"
      ]
     },
     "execution_count": 16,
     "metadata": {},
     "output_type": "execute_result"
    }
   ],
   "source": [
    "data"
   ]
  },
  {
   "cell_type": "markdown",
   "metadata": {},
   "source": [
    "# Analyze the data"
   ]
  },
  {
   "cell_type": "code",
   "execution_count": 17,
   "metadata": {},
   "outputs": [
    {
     "data": {
      "text/html": [
       "<div>\n",
       "<style scoped>\n",
       "    .dataframe tbody tr th:only-of-type {\n",
       "        vertical-align: middle;\n",
       "    }\n",
       "\n",
       "    .dataframe tbody tr th {\n",
       "        vertical-align: top;\n",
       "    }\n",
       "\n",
       "    .dataframe thead th {\n",
       "        text-align: right;\n",
       "    }\n",
       "</style>\n",
       "<table border=\"1\" class=\"dataframe\">\n",
       "  <thead>\n",
       "    <tr style=\"text-align: right;\">\n",
       "      <th></th>\n",
       "      <th>time</th>\n",
       "      <th>used_percent</th>\n",
       "    </tr>\n",
       "  </thead>\n",
       "  <tbody>\n",
       "    <tr>\n",
       "      <th>count</th>\n",
       "      <td>8.000000e+00</td>\n",
       "      <td>8.000000e+00</td>\n",
       "    </tr>\n",
       "    <tr>\n",
       "      <th>mean</th>\n",
       "      <td>1.544801e+18</td>\n",
       "      <td>5.174954e-01</td>\n",
       "    </tr>\n",
       "    <tr>\n",
       "      <th>std</th>\n",
       "      <td>2.449490e+10</td>\n",
       "      <td>1.186878e-16</td>\n",
       "    </tr>\n",
       "    <tr>\n",
       "      <th>min</th>\n",
       "      <td>1.544801e+18</td>\n",
       "      <td>5.174954e-01</td>\n",
       "    </tr>\n",
       "    <tr>\n",
       "      <th>25%</th>\n",
       "      <td>1.544801e+18</td>\n",
       "      <td>5.174954e-01</td>\n",
       "    </tr>\n",
       "    <tr>\n",
       "      <th>50%</th>\n",
       "      <td>1.544801e+18</td>\n",
       "      <td>5.174954e-01</td>\n",
       "    </tr>\n",
       "    <tr>\n",
       "      <th>75%</th>\n",
       "      <td>1.544801e+18</td>\n",
       "      <td>5.174954e-01</td>\n",
       "    </tr>\n",
       "    <tr>\n",
       "      <th>max</th>\n",
       "      <td>1.544801e+18</td>\n",
       "      <td>5.174954e-01</td>\n",
       "    </tr>\n",
       "  </tbody>\n",
       "</table>\n",
       "</div>"
      ],
      "text/plain": [
       "               time  used_percent\n",
       "count  8.000000e+00  8.000000e+00\n",
       "mean   1.544801e+18  5.174954e-01\n",
       "std    2.449490e+10  1.186878e-16\n",
       "min    1.544801e+18  5.174954e-01\n",
       "25%    1.544801e+18  5.174954e-01\n",
       "50%    1.544801e+18  5.174954e-01\n",
       "75%    1.544801e+18  5.174954e-01\n",
       "max    1.544801e+18  5.174954e-01"
      ]
     },
     "execution_count": 17,
     "metadata": {},
     "output_type": "execute_result"
    }
   ],
   "source": [
    "data.describe()"
   ]
  },
  {
   "cell_type": "code",
   "execution_count": 19,
   "metadata": {},
   "outputs": [
    {
     "data": {
      "text/plain": [
       "<matplotlib.axes._subplots.AxesSubplot at 0x7fe4e99b9588>"
      ]
     },
     "execution_count": 19,
     "metadata": {},
     "output_type": "execute_result"
    },
    {
     "data": {
      "image/png": "[encoded data removed]",
      "text/plain": [
       "<Figure size 432x288 with 1 Axes>"
      ]
     },
     "metadata": {
      "needs_background": "light"
     },
     "output_type": "display_data"
    }
   ],
   "source": [
    "data.plot.scatter(\"time\", \"used_percent\")"
   ]
  },
  {
   "cell_type": "code",
   "execution_count": null,
   "metadata": {},
   "outputs": [],
   "source": []
  }
 ],
 "metadata": {
  "kernelspec": {
   "display_name": "Python 3",
   "language": "python",
   "name": "python3"
  },
  "language_info": {
   "codemirror_mode": {
    "name": "ipython",
    "version": 3
   },
   "file_extension": ".py",
   "mimetype": "text/x-python",
   "name": "python",
   "nbconvert_exporter": "python",
   "pygments_lexer": "ipython3",
   "version": "3.7.3"
  }
 },
 "nbformat": 4,
 "nbformat_minor": 2
}
